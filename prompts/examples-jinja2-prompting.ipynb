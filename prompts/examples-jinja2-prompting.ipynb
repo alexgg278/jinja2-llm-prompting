{
 "cells": [
  {
   "cell_type": "markdown",
   "metadata": {},
   "source": [
    "# 1. Render a simple jinja2 template with a codnition"
   ]
  },
  {
   "cell_type": "code",
   "execution_count": 3,
   "metadata": {},
   "outputs": [],
   "source": [
    "from jinja2 import Environment, FileSystemLoader"
   ]
  },
  {
   "cell_type": "code",
   "execution_count": 4,
   "metadata": {},
   "outputs": [
    {
     "name": "stdout",
     "output_type": "stream",
     "text": [
      "- When interacting with the user call him by his name.\n",
      "- The name of the user is Alex.\n",
      "\n",
      " \n",
      "- The user is technical, you can answer the user using technical terms.\n",
      "\n"
     ]
    }
   ],
   "source": [
    "env = Environment(loader=FileSystemLoader(\"\"))\n",
    "template = env.get_template(\"prompt_template.txt\")\n",
    "rendered_output = template.render({\"user_name\": \"Alex\", \"is_user_technical\": \"True\"})\n",
    "print(rendered_output)"
   ]
  },
  {
   "cell_type": "markdown",
   "metadata": {},
   "source": [
    "# 2.  Function to render a jinja2 template and output lanchain PromptTemplate"
   ]
  },
  {
   "cell_type": "code",
   "execution_count": 9,
   "metadata": {},
   "outputs": [],
   "source": [
    "from langchain_core.prompts import PromptTemplate"
   ]
  },
  {
   "cell_type": "code",
   "execution_count": 11,
   "metadata": {},
   "outputs": [],
   "source": [
    "def get_prompt_template_from_jinja2(\n",
    "\t\tprompt_path: str,\n",
    "\t\tprompt_name: str,\n",
    "\t\tinput_variables: list[str]=[],\n",
    "\t\tpartial_variables: dict[str, str]={},\n",
    "\t\tjinja2_placeholders: dict[str, str]=None,\n",
    "\t) -> PromptTemplate:\n",
    "\t\"\"\"\n",
    "\tLoads a .txt as a jinja2 template and converts it to a LangChain PromptTemplate\n",
    "\n",
    "\tParameters:\n",
    "        prompt_path: path to the prompt.\n",
    "        prompt_name: filename of the prompt, including file extension\n",
    "        input_variables: A list of the names of the variables the langchain PromptTemplate expects.\n",
    "        partial_variables: A dictionary of the partial variables the langchain PromptTemplate carries.\n",
    "        jinja2_placeholders: A dictionary of the placehoolders to be replaced in the jinja2 template.\n",
    "\t\"\"\"\n",
    "\n",
    "\tenv = Environment(loader=FileSystemLoader(prompt_path))\n",
    "\ttemplate = env.get_template(prompt_name)\n",
    "\tprompt_string = template.render(jinja2_placeholders)\n",
    "\n",
    "\tprompt_template = PromptTemplate(\n",
    "\t\ttemplate=prompt_string,\n",
    "\t\tinput_variables=input_variables,\n",
    "\t\tpartial_variables=partial_variables,\n",
    "\t)\n",
    "\treturn prompt_template\n"
   ]
  },
  {
   "cell_type": "code",
   "execution_count": 17,
   "metadata": {},
   "outputs": [
    {
     "data": {
      "text/plain": [
       "PromptTemplate(input_variables=[], template='- When interacting with the user call him by his name.\\n- The name of the user is Alex.\\n\\n \\n- The user is technical, you can answer the user using technical terms.\\n')"
      ]
     },
     "execution_count": 17,
     "metadata": {},
     "output_type": "execute_result"
    }
   ],
   "source": [
    "get_prompt_template_from_jinja2(\n",
    "    prompt_path=\"\",\n",
    "    prompt_name=\"prompt_template.txt\",\n",
    "    jinja2_placeholders={\"user_name\": \"Alex\", \"is_user_technical\": \"True\"}\n",
    ")"
   ]
  },
  {
   "cell_type": "markdown",
   "metadata": {},
   "source": [
    "# 3. Implement loops in jinja2 templates"
   ]
  },
  {
   "cell_type": "code",
   "execution_count": 8,
   "metadata": {},
   "outputs": [
    {
     "name": "stdout",
     "output_type": "stream",
     "text": [
      "- When answering codding questions from the user, you have to provide him the answer in the following languages:\n",
      "\n",
      "Programming language number 1: python\n",
      "\n",
      "Programming language number 2: r\n",
      "\n",
      "Programming language number 3: javascript\n",
      "\n",
      "Programming language number 4: c#\n",
      "\n"
     ]
    }
   ],
   "source": [
    "programming_languages_list = [\"python\", \"r\", \"javascript\", \"c#\"]\n",
    "\n",
    "template = env.get_template(\"loop_prompt_template.txt\")\n",
    "rendered_output = template.render({\"programming_languages_list\": programming_languages_list})\n",
    "print(rendered_output)"
   ]
  },
  {
   "cell_type": "markdown",
   "metadata": {},
   "source": [
    "# 4. Template inheritance"
   ]
  },
  {
   "cell_type": "code",
   "execution_count": 9,
   "metadata": {},
   "outputs": [
    {
     "name": "stdout",
     "output_type": "stream",
     "text": [
      "- You are an AI assistant that helps to solve problems in various fields.\n",
      "- Please, answer using formal language.\n",
      "- Use short and direct sentences.\n",
      "\n",
      "\n",
      " \n",
      "\t- The user is technical, you can answer the user using technical terms.\n",
      "\n",
      "\n"
     ]
    }
   ],
   "source": [
    "template = env.get_template(\"specific_template.txt\")\n",
    "output = template.render({\"user_name\": \"Alex\", \"is_user_technical\": \"True\"})\n",
    "print(output)"
   ]
  }
 ],
 "metadata": {
  "kernelspec": {
   "display_name": ".venv",
   "language": "python",
   "name": "python3"
  },
  "language_info": {
   "codemirror_mode": {
    "name": "ipython",
    "version": 3
   },
   "file_extension": ".py",
   "mimetype": "text/x-python",
   "name": "python",
   "nbconvert_exporter": "python",
   "pygments_lexer": "ipython3",
   "version": "3.10.12"
  }
 },
 "nbformat": 4,
 "nbformat_minor": 2
}
